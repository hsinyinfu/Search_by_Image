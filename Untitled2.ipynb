{
 "cells": [
  {
   "cell_type": "code",
   "execution_count": 1,
   "metadata": {},
   "outputs": [],
   "source": [
    "import sift\n",
    "import os\n",
    "import numpy as np\n",
    "import matplotlib.pyplot as plt\n",
    "from PIL import Image\n",
    "from sklearn.cluster import KMeans\n",
    "from sklearn.metrics import pairwise\n",
    "%matplotlib inline"
   ]
  },
  {
   "cell_type": "code",
   "execution_count": 2,
   "metadata": {},
   "outputs": [],
   "source": [
    "BOF_preprocessing_done = False\n",
    "path = './dataset/sift/'\n",
    "n_clusters = 50\n",
    "file_number = 1005"
   ]
  },
  {
   "cell_type": "code",
   "execution_count": 3,
   "metadata": {},
   "outputs": [],
   "source": [
    "def zero_list_maker(n):\n",
    "    zeroList = [0]*n\n",
    "    return zeroList"
   ]
  },
  {
   "cell_type": "code",
   "execution_count": 4,
   "metadata": {},
   "outputs": [],
   "source": [
    "def accumulate(lst, n_clusters):\n",
    "    result = zero_list_maker(n_clusters)\n",
    "    for i in xrange(len(lst)):\n",
    "        result[lst[i]] = result[lst[i]]+1\n",
    "    return result"
   ]
  },
  {
   "cell_type": "code",
   "execution_count": 5,
   "metadata": {},
   "outputs": [],
   "source": [
    "def turnPredictToHistgram(predict, n_clusters):\n",
    "    #print predict\n",
    "    predict = accumulate(predict, n_clusters)\n",
    "    return predict"
   ]
  },
  {
   "cell_type": "code",
   "execution_count": 33,
   "metadata": {},
   "outputs": [],
   "source": [
    "def findTopTen(score_lst):\n",
    "    index = [x for x in range(0, len(score_lst))]\n",
    "    score_lst = zip(index, score_lst)\n",
    "    list.sort(score_lst, key= lambda tup: tup[1], reverse= True)\n",
    "    #print 'this'\n",
    "    #print score_lst\n",
    "    result = score_lst[:10]\n",
    "    return [(indexToJPGName(index), score) for (index, score) in score_lst[:10]]\n",
    "#    for i in range(len(score_lst)):\n",
    "#        result[i][0] = indexToJPGName(result[i][0])\n",
    "#    return result"
   ]
  },
  {
   "cell_type": "code",
   "execution_count": 7,
   "metadata": {},
   "outputs": [],
   "source": [
    "def indexToJPGName(index):\n",
    "    return 'ukbench' + '0'*(5-len(str(index))) + str(index)"
   ]
  },
  {
   "cell_type": "code",
   "execution_count": 8,
   "metadata": {},
   "outputs": [],
   "source": [
    "def BOF_preprocessing():\n",
    "    sift_bag  = sift.read_features_from_file('./dataset/sift/00000.sift')[1]\n",
    "    for i in xrange(1, file_number+1):\n",
    "        if i < 10:\n",
    "            file_name = path + '0000' + str(i) + '.sift'\n",
    "        elif i < 100:\n",
    "            file_name = path + '000' + str(i) + '.sift'\n",
    "        elif i < 1000:\n",
    "            file_name = path + '00' + str(i) + '.sift'\n",
    "        else:\n",
    "            file_name = path + '0' + str(i) + '.sift'\n",
    "        sift_bag = np.append(sift_bag, sift.read_features_from_file(file_name)[1], axis=0)\n",
    "    visual_vocabulary = KMeans(n_clusters=n_clusters, random_state=0).fit(sift_bag)\n",
    "    codewords = list()\n",
    "    for i in xrange(0, file_number+1):\n",
    "        if i < 10:\n",
    "            file_name = path + '0000' + str(i) + '.sift'\n",
    "        elif i < 100:\n",
    "            file_name = path + '000' + str(i) + '.sift'\n",
    "        elif i < 1000:\n",
    "            file_name = path + '00' + str(i) + '.sift'\n",
    "        else:\n",
    "            file_name = path + '0' + str(i) + '.sift'\n",
    "        codewords.append(visual_vocabulary.predict(sift.read_features_from_file(file_name)[1]))\n",
    "    for i in xrange(len(codewords)):\n",
    "        codewords[i] = turnPredictToHistgram(codewords[i], n_clusters)\n",
    "    return (visual_vocabulary, codewords)"
   ]
  },
  {
   "cell_type": "code",
   "execution_count": 16,
   "metadata": {},
   "outputs": [],
   "source": [
    "def search(target, vocabulary, codewords): #\n",
    "    target_sift  = sift.read_features_from_file(path + target.split('.')[0][-5:] + '.sift')[1]\n",
    "    target_vector = turnPredictToHistgram(vocabulary.predict(target_sift), n_clusters)\n",
    "    score_list = calculateDistance(target_vector, codewords)\n",
    "    #print 'that'\n",
    "    #print score_list\n",
    "    return findTopTen(score_list)"
   ]
  },
  {
   "cell_type": "code",
   "execution_count": 20,
   "metadata": {},
   "outputs": [],
   "source": [
    "def calculateDistance(target, codewords): # both target and codewords are list\n",
    "    codewords.insert(0, target)\n",
    "    return pairwise.cosine_similarity(np.array(codewords))[0]"
   ]
  },
  {
   "cell_type": "code",
   "execution_count": 34,
   "metadata": {},
   "outputs": [
    {
     "name": "stdout",
     "output_type": "stream",
     "text": [
      "[('ukbench00000', 1.0000000000000002), ('ukbench00001', 1.0000000000000002), ('ukbench00002', 1.0000000000000002), ('ukbench00003', 1.0000000000000002), ('ukbench00004', 1.0000000000000002), ('ukbench00005', 1.0000000000000002), ('ukbench00006', 1.0000000000000002), ('ukbench00007', 1.0000000000000002), ('ukbench00598', 0.96478617440633596), ('ukbench00092', 0.95692584204214715)]\n"
     ]
    }
   ],
   "source": [
    "if not BOF_preprocessing_done:\n",
    "    vocabulary, codewords = BOF_preprocessing()\n",
    "    BOF_preprocessing_done = True\n",
    "#print codewords[0]\n",
    "res = search('ukbench00000.jpg', vocabulary, codewords)\n",
    "print res"
   ]
  },
  {
   "cell_type": "code",
   "execution_count": 28,
   "metadata": {},
   "outputs": [],
   "source": []
  },
  {
   "cell_type": "code",
   "execution_count": null,
   "metadata": {},
   "outputs": [],
   "source": []
  }
 ],
 "metadata": {
  "kernelspec": {
   "display_name": "Python 2",
   "language": "python",
   "name": "python2"
  },
  "language_info": {
   "codemirror_mode": {
    "name": "ipython",
    "version": 2
   },
   "file_extension": ".py",
   "mimetype": "text/x-python",
   "name": "python",
   "nbconvert_exporter": "python",
   "pygments_lexer": "ipython2",
   "version": "2.7.13"
  }
 },
 "nbformat": 4,
 "nbformat_minor": 2
}
