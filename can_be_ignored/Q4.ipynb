{
 "cells": [
  {
   "cell_type": "code",
   "execution_count": 1,
   "metadata": {},
   "outputs": [],
   "source": [
    "import sift\n",
    "import numpy as np\n",
    "from sklearn.cluster import KMeans\n",
    "from sklearn.metrics import pairwise"
   ]
  },
  {
   "cell_type": "code",
   "execution_count": 2,
   "metadata": {},
   "outputs": [],
   "source": [
    "BOF_preprocess_done = False\n",
    "path = './dataset/sift/'\n",
    "n_clusters = 50\n",
    "file_number = 1005\n"
   ]
  },
  {
   "cell_type": "code",
   "execution_count": 3,
   "metadata": {},
   "outputs": [],
   "source": [
    "def zero_list_maker(n):\n",
    "    zeroList = [0]*n\n",
    "    return zeroList"
   ]
  },
  {
   "cell_type": "code",
   "execution_count": 4,
   "metadata": {},
   "outputs": [],
   "source": [
    "def accumulate(lst, n_clusters):\n",
    "    result = zero_list_maker(n_clusters)\n",
    "    for i in xrange(len(lst)):\n",
    "        result[lst[i]] = result[lst[i]]+1\n",
    "    return result"
   ]
  },
  {
   "cell_type": "code",
   "execution_count": 5,
   "metadata": {},
   "outputs": [],
   "source": [
    "def turnPredictToHistgram(predict, n_clusters):\n",
    "    predict = accumulate(predict, n_clusters)\n",
    "    return predict"
   ]
  },
  {
   "cell_type": "code",
   "execution_count": 6,
   "metadata": {},
   "outputs": [],
   "source": [
    "# edited\n",
    "def findTopTen(score_lst):\n",
    "    index = [x for x in range(0, len(score_lst))]\n",
    "    score_lst = zip(index, score_lst)\n",
    "    list.sort(score_lst, key= lambda tup: tup[1], reverse= True)\n",
    "    return [[indexToJPGName(index), score] for (index, score) in score_lst[:10]]"
   ]
  },
  {
   "cell_type": "code",
   "execution_count": 7,
   "metadata": {},
   "outputs": [],
   "source": [
    "def indexToJPGName(index):\n",
    "    return 'ukbench' + '0'*(5-len(str(index))) + str(index) + '.jpg'"
   ]
  },
  {
   "cell_type": "code",
   "execution_count": 8,
   "metadata": {},
   "outputs": [],
   "source": [
    "def calculateDistance(target, codewords): # both target and codewords are list\n",
    "    codewords.insert(0, target)\n",
    "    return pairwise.cosine_similarity(np.array(codewords))[0][1:]"
   ]
  },
  {
   "cell_type": "code",
   "execution_count": 9,
   "metadata": {},
   "outputs": [],
   "source": [
    "def BOF_preprocessing():\n",
    "    sift_bag  = sift.read_features_from_file('./dataset/sift/00000.sift')[1]\n",
    "    for i in xrange(1, file_number+1):\n",
    "        file_name = path + '0'*(5-len(str(i))) + str(i) + '.sift'\n",
    "        sift_bag = np.append(sift_bag, sift.read_features_from_file(file_name)[1], axis=0)\n",
    "    visual_vocabulary = KMeans(n_clusters=n_clusters, random_state=0).fit(sift_bag)\n",
    "    codewords = list()\n",
    "    for i in xrange(0, file_number+1):\n",
    "        file_name = path + '0'*(5-len(str(i))) + str(i) + '.sift'\n",
    "        codewords.append(visual_vocabulary.predict(sift.read_features_from_file(file_name)[1]))\n",
    "    for i in xrange(len(codewords)):\n",
    "        codewords[i] = turnPredictToHistgram(codewords[i], n_clusters)\n",
    "    return (visual_vocabulary, codewords)"
   ]
  },
  {
   "cell_type": "code",
   "execution_count": 10,
   "metadata": {},
   "outputs": [],
   "source": [
    "# edited\n",
    "def search(target, vocabulary, codewords, swIndices): \n",
    "    target_sift  = sift.read_features_from_file(path + target.split('.')[0][-5:] + '.sift')[1]\n",
    "    target_vector = turnPredictToHistgram(vocabulary.predict(target_sift), n_clusters)\n",
    "    target_vector = stopwordsRemoved(target_vector, swIndices)\n",
    "    score_list = calculateDistance(target_vector, codewords)\n",
    "    return findTopTen(score_list)"
   ]
  },
  {
   "cell_type": "code",
   "execution_count": 11,
   "metadata": {},
   "outputs": [],
   "source": [
    "def findStopWords(stopWordNum, codewordsHist):\n",
    "    sumHistogram = np.zeros(len(codewordsHist[0])).astype('int')\n",
    "    for i in codewordsHist:\n",
    "        sumHistogram = sumHistogram + np.array(i).astype('int')\n",
    "    index = [x for x in range(0, len(sumHistogram))]\n",
    "    freq_lst = zip(index, sumHistogram)\n",
    "    list.sort(freq_lst, key= lambda tup: tup[1], reverse= True)\n",
    "    return [x[0] for x in freq_lst[:stopWordNum]]"
   ]
  },
  {
   "cell_type": "code",
   "execution_count": 12,
   "metadata": {},
   "outputs": [],
   "source": [
    "def stopwordsRemoved(lst, swIndices):\n",
    "    descending = sorted(swIndices, reverse=True)\n",
    "    refinedLst = list()\n",
    "    for index in descending:\n",
    "        refinedLst = lst[:index] + lst[index+1:]\n",
    "        lst = refinedLst\n",
    "    return refinedLst"
   ]
  },
  {
   "cell_type": "code",
   "execution_count": 13,
   "metadata": {},
   "outputs": [],
   "source": [
    "def stopWords_preprocessed(stopWordNum, codewords):\n",
    "    stopWordIndices = findStopWords(5, codewords)\n",
    "    refinedCodewords = list()\n",
    "    for i in xrange(len(codewords)):\n",
    "        refinedCodewords.append(stopwordsRemoved(codewords[i], stopWordIndices))\n",
    "    return (refinedCodewords, stopWordIndices)"
   ]
  },
  {
   "cell_type": "code",
   "execution_count": 17,
   "metadata": {},
   "outputs": [
    {
     "name": "stdout",
     "output_type": "stream",
     "text": [
      "[['ukbench00009.jpg', 1.0], ['ukbench00595.jpg', 0.78215475471735318], ['ukbench00948.jpg', 0.77115382241274155], ['ukbench00447.jpg', 0.76503825286898908], ['ukbench00312.jpg', 0.7640839419052694], ['ukbench00157.jpg', 0.74568738273078394], ['ukbench00807.jpg', 0.74239960298451924], ['ukbench00315.jpg', 0.74215079534606376], ['ukbench00670.jpg', 0.74180452912797623], ['ukbench00326.jpg', 0.74000997390315471]]\n"
     ]
    }
   ],
   "source": [
    "if not BOF_preprocess_done:\n",
    "    vocabulary, codewords = BOF_preprocessing()\n",
    "    BOF_preprocess_done = True\n",
    "refinedCodewords, stopWordIndices = stopWords_preprocessed(5, codewords)\n",
    "res = search('ukbench00009.jpg', vocabulary, refinedCodewords, stopWordIndices)\n",
    "print res"
   ]
  },
  {
   "cell_type": "code",
   "execution_count": null,
   "metadata": {},
   "outputs": [],
   "source": []
  }
 ],
 "metadata": {
  "kernelspec": {
   "display_name": "Python 2",
   "language": "python",
   "name": "python2"
  },
  "language_info": {
   "codemirror_mode": {
    "name": "ipython",
    "version": 2
   },
   "file_extension": ".py",
   "mimetype": "text/x-python",
   "name": "python",
   "nbconvert_exporter": "python",
   "pygments_lexer": "ipython2",
   "version": "2.7.13"
  }
 },
 "nbformat": 4,
 "nbformat_minor": 2
}
